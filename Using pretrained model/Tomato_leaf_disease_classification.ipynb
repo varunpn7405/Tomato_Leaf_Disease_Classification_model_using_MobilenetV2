{
 "cells": [
  {
   "cell_type": "code",
   "execution_count": 14,
   "id": "86abcd9b-bdda-4252-97b5-11c8de91dd48",
   "metadata": {},
   "outputs": [
    {
     "name": "stdout",
     "output_type": "stream",
     "text": [
      "Found 121 images belonging to 10 classes.\n",
      "Found 10 images belonging to 10 classes.\n",
      "Epoch 1/10\n",
      "4/4 [==============================] - 12s 1s/step - loss: 2.1849 - accuracy: 0.2810 - val_loss: 1.8229 - val_accuracy: 0.3000\n",
      "Epoch 2/10\n",
      "4/4 [==============================] - 2s 539ms/step - loss: 0.9124 - accuracy: 0.7107 - val_loss: 0.9018 - val_accuracy: 0.9000\n",
      "Epoch 3/10\n",
      "4/4 [==============================] - 2s 524ms/step - loss: 0.4004 - accuracy: 0.8760 - val_loss: 0.9247 - val_accuracy: 0.7000\n",
      "Epoch 4/10\n",
      "4/4 [==============================] - 2s 538ms/step - loss: 0.2166 - accuracy: 0.9504 - val_loss: 0.6983 - val_accuracy: 0.6000\n",
      "Epoch 5/10\n",
      "4/4 [==============================] - 2s 532ms/step - loss: 0.1123 - accuracy: 0.9752 - val_loss: 0.8529 - val_accuracy: 0.8000\n",
      "Epoch 6/10\n",
      "4/4 [==============================] - 2s 526ms/step - loss: 0.0706 - accuracy: 1.0000 - val_loss: 0.6237 - val_accuracy: 0.8000\n",
      "Epoch 7/10\n",
      "4/4 [==============================] - 2s 563ms/step - loss: 0.0214 - accuracy: 1.0000 - val_loss: 0.6586 - val_accuracy: 0.9000\n",
      "Epoch 8/10\n",
      "4/4 [==============================] - 2s 536ms/step - loss: 0.0164 - accuracy: 1.0000 - val_loss: 0.8266 - val_accuracy: 0.7000\n",
      "Epoch 9/10\n",
      "4/4 [==============================] - 2s 570ms/step - loss: 0.0145 - accuracy: 1.0000 - val_loss: 0.8070 - val_accuracy: 0.8000\n",
      "Epoch 10/10\n",
      "4/4 [==============================] - 2s 527ms/step - loss: 0.0106 - accuracy: 1.0000 - val_loss: 0.7400 - val_accuracy: 0.8000\n"
     ]
    },
    {
     "data": {
      "text/plain": [
       "<keras.src.callbacks.History at 0x1eb07766c10>"
      ]
     },
     "execution_count": 14,
     "metadata": {},
     "output_type": "execute_result"
    }
   ],
   "source": [
    "import tensorflow as tf\n",
    "from tensorflow.keras.preprocessing.image import ImageDataGenerator\n",
    "from tensorflow.keras.applications import MobileNetV2\n",
    "from tensorflow.keras.models import Sequential\n",
    "from tensorflow.keras.layers import Dense, GlobalAveragePooling2D\n",
    "from tensorflow.keras.optimizers import Adam\n",
    "\n",
    "# Set parameters\n",
    "img_height, img_width = 224, 224\n",
    "batch_size = 32\n",
    "num_classes = 10  # Update this to match the number of classes in your dataset\n",
    "\n",
    "# Data generators\n",
    "train_datagen = ImageDataGenerator(rescale=1./255, validation_split=0.2)\n",
    "\n",
    "train_generator = train_datagen.flow_from_directory(\n",
    "    'dataset/train',\n",
    "    target_size=(img_height, img_width),\n",
    "    batch_size=batch_size,\n",
    "    class_mode='categorical',\n",
    "    subset='training')\n",
    "\n",
    "validation_generator = train_datagen.flow_from_directory(\n",
    "    'dataset/val',\n",
    "    target_size=(img_height, img_width),\n",
    "    batch_size=batch_size,\n",
    "    class_mode='categorical',\n",
    "    subset='validation')\n",
    "\n",
    "# Build model\n",
    "base_model = MobileNetV2(weights='imagenet', include_top=False, input_shape=(img_height, img_width, 3))\n",
    "base_model.trainable = False  # Freeze the base model\n",
    "\n",
    "model = Sequential([\n",
    "    base_model,\n",
    "    GlobalAveragePooling2D(),\n",
    "    Dense(1024, activation='relu'),\n",
    "    Dense(num_classes, activation='softmax')  # Ensure this matches the number of classes\n",
    "])\n",
    "\n",
    "# Compile model\n",
    "model.compile(optimizer=Adam(learning_rate=0.001),\n",
    "              loss='categorical_crossentropy',\n",
    "              metrics=['accuracy'])\n",
    "\n",
    "# Train model\n",
    "model.fit(train_generator,\n",
    "          epochs=10,  # Adjust epochs as needed\n",
    "          validation_data=validation_generator)\n"
   ]
  },
  {
   "cell_type": "code",
   "execution_count": 26,
   "id": "d22b3638-f316-43c4-83fe-79a7b50bca39",
   "metadata": {},
   "outputs": [
    {
     "name": "stdout",
     "output_type": "stream",
     "text": [
      "1/1 [==============================] - 0s 76ms/step\n",
      "Predicted class: Tomato - Septoria_leaf_spot\n"
     ]
    }
   ],
   "source": [
    "from tensorflow.keras.preprocessing import image\n",
    "import numpy as np\n",
    "\n",
    "# Load a single image\n",
    "img_path = r\"C:\\Users\\VARUN PN\\Downloads\\Tomato___Septoria_leaf_spot (4).JPG\"  # Replace with the path to your test image\n",
    "img = image.load_img(img_path, target_size=(img_height, img_width))\n",
    "img_array = image.img_to_array(img)\n",
    "img_array = np.expand_dims(img_array, axis=0)  # Add batch dimension\n",
    "img_array /= 255.0  # Rescale image\n",
    "\n",
    "# Predict\n",
    "predictions = model.predict(img_array)\n",
    "predicted_class = np.argmax(predictions[0])\n",
    "class_labels = list(train_generator.class_indices.keys())\n",
    "predicted_class_label = class_labels[predicted_class]\n",
    "\n",
    "print(f'Predicted class: {predicted_class_label}')\n"
   ]
  },
  {
   "cell_type": "code",
   "execution_count": null,
   "id": "d982c0c6-97ad-4f30-99b5-5c0deb2ab1f0",
   "metadata": {},
   "outputs": [],
   "source": []
  }
 ],
 "metadata": {
  "kernelspec": {
   "display_name": "myenv",
   "language": "python",
   "name": "myenv"
  },
  "language_info": {
   "codemirror_mode": {
    "name": "ipython",
    "version": 3
   },
   "file_extension": ".py",
   "mimetype": "text/x-python",
   "name": "python",
   "nbconvert_exporter": "python",
   "pygments_lexer": "ipython3",
   "version": "3.11.1"
  }
 },
 "nbformat": 4,
 "nbformat_minor": 5
}
