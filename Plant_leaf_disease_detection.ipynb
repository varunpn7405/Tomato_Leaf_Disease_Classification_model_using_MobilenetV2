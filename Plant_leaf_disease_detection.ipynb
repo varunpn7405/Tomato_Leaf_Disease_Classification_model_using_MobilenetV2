{
 "cells": [
  {
   "cell_type": "code",
   "execution_count": 1,
   "id": "ba6c5fc0-f47a-4aa2-9113-02409f8c8909",
   "metadata": {},
   "outputs": [
    {
     "name": "stdout",
     "output_type": "stream",
     "text": [
      "WARNING:tensorflow:From C:\\Users\\VARUN PN\\AppData\\Local\\Programs\\Python\\Python311\\Lib\\site-packages\\keras\\src\\losses.py:2976: The name tf.losses.sparse_softmax_cross_entropy is deprecated. Please use tf.compat.v1.losses.sparse_softmax_cross_entropy instead.\n",
      "\n"
     ]
    }
   ],
   "source": [
    "import tensorflow as tf\n",
    "from tensorflow.keras import models,layers\n",
    "import numpy as np\n",
    "import os\n",
    "import matplotlib.pyplot as plt\n",
    "from tensorflow.keras.preprocessing.image import ImageDataGenerator"
   ]
  },
  {
   "cell_type": "code",
   "execution_count": 2,
   "id": "682cd715-2122-493e-ae75-eb88c356582e",
   "metadata": {},
   "outputs": [],
   "source": [
    "from tensorflow.compat.v1 import ConfigProto\n",
    "from tensorflow.compat.v1 import InteractiveSession\n",
    "\n",
    "config = ConfigProto()\n",
    "config.gpu_options.allow_growth = True\n",
    "session = InteractiveSession(config=config)"
   ]
  },
  {
   "cell_type": "code",
   "execution_count": 3,
   "id": "8a625793-f40f-462a-8f6d-3d84bbb1e7c8",
   "metadata": {},
   "outputs": [
    {
     "name": "stdout",
     "output_type": "stream",
     "text": [
      "WARNING:tensorflow:From C:\\Users\\VARUN PN\\AppData\\Local\\Temp\\ipykernel_12684\\45053954.py:1: The name tf.disable_eager_execution is deprecated. Please use tf.compat.v1.disable_eager_execution instead.\n",
      "\n"
     ]
    }
   ],
   "source": [
    "tf.compat.v1.disable_eager_execution()"
   ]
  },
  {
   "cell_type": "code",
   "execution_count": 29,
   "id": "e970ea62-107b-44b9-adbc-4c2301b4abae",
   "metadata": {},
   "outputs": [],
   "source": [
    "classifier=models.Sequential([\n",
    "    layers.Conv2D(32, (3, 3), input_shape = (128, 128, 3), activation = 'relu'),\n",
    "    layers.MaxPooling2D(pool_size = (2, 2)),\n",
    "    layers.Conv2D(32, (3, 3), activation = 'relu'),\n",
    "    layers.MaxPooling2D(pool_size = (2, 2)),\n",
    "    layers.Conv2D(32, (3, 3), activation = 'relu'),\n",
    "    layers.MaxPooling2D(pool_size = (2, 2)),\n",
    "    layers.Conv2D(64, (3, 3), activation = 'relu'),\n",
    "    layers.MaxPooling2D(pool_size = (2, 2)),\n",
    "    layers.Flatten(),\n",
    "    layers.Dense(units = 128, activation = 'relu'),\n",
    "    layers.Dropout(0.5),\n",
    "    layers.Dense(units = 10, activation = 'sigmoid'),  \n",
    "])\n",
    "\n",
    "classifier.compile(\n",
    "    optimizer=\"adam\",\n",
    "    loss=\"categorical_crossentropy\",\n",
    "    metrics=[\"accuracy\"]\n",
    ")"
   ]
  },
  {
   "cell_type": "code",
   "execution_count": 30,
   "id": "8a243367-ec7b-4392-abcd-9b5ca5eae803",
   "metadata": {},
   "outputs": [
    {
     "name": "stdout",
     "output_type": "stream",
     "text": [
      "Found 143 images belonging to 10 classes.\n",
      "Found 52 images belonging to 10 classes.\n"
     ]
    }
   ],
   "source": [
    "train_datagen = ImageDataGenerator(rescale = 1./255, shear_range = 0.2, zoom_range = 0.2, horizontal_flip = True)\n",
    "\n",
    "test_datagen = ImageDataGenerator(rescale = 1./255)\n",
    "\n",
    "training_set = train_datagen.flow_from_directory('./Dataset/train', # relative path from working directoy\n",
    "                                                 target_size = (128, 128),\n",
    "                                                 batch_size = 6, class_mode = 'categorical')\n",
    "valid_set = test_datagen.flow_from_directory('./Dataset/val', # relative path from working directoy\n",
    "                                             target_size = (128, 128), \n",
    "                                        batch_size = 3, class_mode = 'categorical')"
   ]
  },
  {
   "cell_type": "code",
   "execution_count": 42,
   "id": "d9bde2c2-3d7a-4b56-8038-ac6389bda207",
   "metadata": {},
   "outputs": [],
   "source": [
    "labels = (training_set.class_indices)\n",
    "import json\n",
    "with open(\"labels_dict.json\",\"w\") as f:\n",
    "    json.dump(labels,f,indent=4)\n",
    "    "
   ]
  },
  {
   "cell_type": "code",
   "execution_count": 32,
   "id": "9d8dca1a-5606-48be-96ca-6ee12b9ba7d5",
   "metadata": {},
   "outputs": [
    {
     "name": "stderr",
     "output_type": "stream",
     "text": [
      "C:\\Users\\VARUN PN\\AppData\\Local\\Temp\\ipykernel_12684\\1275076412.py:1: UserWarning: `model.fit_generator` is deprecated and will be removed in a future version. Please use `Model.fit`, which supports generators.\n",
      "  classifier.fit_generator(training_set,\n"
     ]
    },
    {
     "name": "stdout",
     "output_type": "stream",
     "text": [
      "Epoch 1/50\n",
      "20/20 [==============================] - 2s 64ms/step - batch: 9.5000 - size: 6.0000 - loss: 2.3503 - accuracy: 0.0917 - val_loss: 2.2999 - val_accuracy: 0.0962\n",
      "Epoch 2/50\n",
      "20/20 [==============================] - 1s 74ms/step - batch: 9.5000 - size: 5.9000 - loss: 2.3025 - accuracy: 0.1356 - val_loss: 2.2968 - val_accuracy: 0.0962\n",
      "Epoch 3/50\n",
      "20/20 [==============================] - 2s 78ms/step - batch: 9.5000 - size: 5.9500 - loss: 2.3058 - accuracy: 0.0756 - val_loss: 2.3008 - val_accuracy: 0.0962\n",
      "Epoch 4/50\n",
      "20/20 [==============================] - 1s 75ms/step - batch: 9.5000 - size: 6.0000 - loss: 2.2991 - accuracy: 0.1083 - val_loss: 2.2966 - val_accuracy: 0.1154\n",
      "Epoch 5/50\n",
      "20/20 [==============================] - 1s 72ms/step - batch: 9.5000 - size: 5.9500 - loss: 2.2978 - accuracy: 0.1176 - val_loss: 2.2950 - val_accuracy: 0.0962\n",
      "Epoch 6/50\n",
      "20/20 [==============================] - 1s 62ms/step - batch: 9.5000 - size: 5.9500 - loss: 2.2841 - accuracy: 0.1176 - val_loss: 2.2902 - val_accuracy: 0.0962\n",
      "Epoch 7/50\n",
      "20/20 [==============================] - 2s 79ms/step - batch: 9.5000 - size: 6.0000 - loss: 2.3146 - accuracy: 0.1417 - val_loss: 2.2772 - val_accuracy: 0.3269\n",
      "Epoch 8/50\n",
      "20/20 [==============================] - 2s 78ms/step - batch: 9.5000 - size: 5.9000 - loss: 2.2659 - accuracy: 0.1441 - val_loss: 2.1849 - val_accuracy: 0.2692\n",
      "Epoch 9/50\n",
      "20/20 [==============================] - 1s 74ms/step - batch: 9.5000 - size: 6.0000 - loss: 2.1642 - accuracy: 0.1750 - val_loss: 2.1812 - val_accuracy: 0.2885\n",
      "Epoch 10/50\n",
      "20/20 [==============================] - 1s 68ms/step - batch: 9.5000 - size: 5.9500 - loss: 2.1679 - accuracy: 0.2101 - val_loss: 2.2575 - val_accuracy: 0.3462\n",
      "Epoch 11/50\n",
      "20/20 [==============================] - 2s 76ms/step - batch: 9.5000 - size: 5.9000 - loss: 2.0083 - accuracy: 0.2542 - val_loss: 2.3984 - val_accuracy: 0.2308\n",
      "Epoch 12/50\n",
      "20/20 [==============================] - 1s 72ms/step - batch: 9.5000 - size: 6.0000 - loss: 2.1339 - accuracy: 0.1833 - val_loss: 2.0704 - val_accuracy: 0.2885\n",
      "Epoch 13/50\n",
      "20/20 [==============================] - 1s 71ms/step - batch: 9.5000 - size: 6.0000 - loss: 1.9721 - accuracy: 0.3250 - val_loss: 2.0894 - val_accuracy: 0.2500\n",
      "Epoch 14/50\n",
      "20/20 [==============================] - 2s 82ms/step - batch: 9.5000 - size: 5.9500 - loss: 2.0340 - accuracy: 0.2941 - val_loss: 1.8288 - val_accuracy: 0.4038\n",
      "Epoch 15/50\n",
      "20/20 [==============================] - 2s 78ms/step - batch: 9.5000 - size: 5.9500 - loss: 1.8434 - accuracy: 0.3613 - val_loss: 1.8169 - val_accuracy: 0.4038\n",
      "Epoch 16/50\n",
      "20/20 [==============================] - 1s 73ms/step - batch: 9.5000 - size: 5.9000 - loss: 1.9298 - accuracy: 0.3729 - val_loss: 2.2034 - val_accuracy: 0.3462\n",
      "Epoch 17/50\n",
      "20/20 [==============================] - 2s 79ms/step - batch: 9.5000 - size: 5.9500 - loss: 1.8094 - accuracy: 0.3109 - val_loss: 2.4313 - val_accuracy: 0.3846\n",
      "Epoch 18/50\n",
      "20/20 [==============================] - 1s 69ms/step - batch: 9.5000 - size: 6.0000 - loss: 1.6005 - accuracy: 0.3750 - val_loss: 2.4489 - val_accuracy: 0.4615\n",
      "Epoch 19/50\n",
      "20/20 [==============================] - 1s 71ms/step - batch: 9.5000 - size: 5.9500 - loss: 1.6421 - accuracy: 0.3866 - val_loss: 1.6590 - val_accuracy: 0.4423\n",
      "Epoch 20/50\n",
      "20/20 [==============================] - 2s 77ms/step - batch: 9.5000 - size: 5.9500 - loss: 1.4960 - accuracy: 0.4454 - val_loss: 1.8842 - val_accuracy: 0.4038\n",
      "Epoch 21/50\n",
      "20/20 [==============================] - 1s 72ms/step - batch: 9.5000 - size: 5.9500 - loss: 1.5538 - accuracy: 0.4454 - val_loss: 1.6523 - val_accuracy: 0.4615\n",
      "Epoch 22/50\n",
      "20/20 [==============================] - 1s 72ms/step - batch: 9.5000 - size: 6.0000 - loss: 1.4468 - accuracy: 0.5000 - val_loss: 2.1737 - val_accuracy: 0.4038\n",
      "Epoch 23/50\n",
      "20/20 [==============================] - 1s 73ms/step - batch: 9.5000 - size: 5.9500 - loss: 1.5998 - accuracy: 0.4370 - val_loss: 1.8931 - val_accuracy: 0.4808\n",
      "Epoch 24/50\n",
      "20/20 [==============================] - 1s 66ms/step - batch: 9.5000 - size: 5.9500 - loss: 1.3826 - accuracy: 0.5126 - val_loss: 1.8075 - val_accuracy: 0.4808\n",
      "Epoch 25/50\n",
      "20/20 [==============================] - 2s 78ms/step - batch: 9.5000 - size: 5.9500 - loss: 1.3841 - accuracy: 0.5126 - val_loss: 1.5989 - val_accuracy: 0.5385\n",
      "Epoch 26/50\n",
      "20/20 [==============================] - 2s 76ms/step - batch: 9.5000 - size: 5.9500 - loss: 1.3222 - accuracy: 0.5462 - val_loss: 1.5630 - val_accuracy: 0.5577\n",
      "Epoch 27/50\n",
      "20/20 [==============================] - 2s 79ms/step - batch: 9.5000 - size: 5.9500 - loss: 1.2410 - accuracy: 0.6050 - val_loss: 1.5707 - val_accuracy: 0.5385\n",
      "Epoch 28/50\n",
      "20/20 [==============================] - 2s 78ms/step - batch: 9.5000 - size: 6.0000 - loss: 1.1391 - accuracy: 0.5750 - val_loss: 1.7152 - val_accuracy: 0.5000\n",
      "Epoch 29/50\n",
      "20/20 [==============================] - 1s 70ms/step - batch: 9.5000 - size: 5.9000 - loss: 1.0827 - accuracy: 0.6356 - val_loss: 1.9266 - val_accuracy: 0.5577\n",
      "Epoch 30/50\n",
      "20/20 [==============================] - 1s 67ms/step - batch: 9.5000 - size: 6.0000 - loss: 1.1560 - accuracy: 0.5917 - val_loss: 1.7415 - val_accuracy: 0.5192\n",
      "Epoch 31/50\n",
      "20/20 [==============================] - 1s 69ms/step - batch: 9.5000 - size: 5.9500 - loss: 1.1287 - accuracy: 0.6303 - val_loss: 1.5091 - val_accuracy: 0.5577\n",
      "Epoch 32/50\n",
      "20/20 [==============================] - 2s 79ms/step - batch: 9.5000 - size: 6.0000 - loss: 0.9931 - accuracy: 0.6583 - val_loss: 1.9265 - val_accuracy: 0.6154\n",
      "Epoch 33/50\n",
      "20/20 [==============================] - 1s 73ms/step - batch: 9.5000 - size: 5.9500 - loss: 1.0092 - accuracy: 0.6639 - val_loss: 1.6442 - val_accuracy: 0.5192\n",
      "Epoch 34/50\n",
      "20/20 [==============================] - 1s 73ms/step - batch: 9.5000 - size: 5.9500 - loss: 0.8879 - accuracy: 0.7143 - val_loss: 1.7422 - val_accuracy: 0.5769\n",
      "Epoch 35/50\n",
      "20/20 [==============================] - 1s 74ms/step - batch: 9.5000 - size: 5.9500 - loss: 0.8495 - accuracy: 0.6891 - val_loss: 1.6232 - val_accuracy: 0.5769\n",
      "Epoch 36/50\n",
      "20/20 [==============================] - 1s 68ms/step - batch: 9.5000 - size: 5.9500 - loss: 1.1186 - accuracy: 0.5546 - val_loss: 1.7016 - val_accuracy: 0.5769\n",
      "Epoch 37/50\n",
      "20/20 [==============================] - 1s 68ms/step - batch: 9.5000 - size: 5.9500 - loss: 0.8878 - accuracy: 0.6807 - val_loss: 2.2630 - val_accuracy: 0.4615\n",
      "Epoch 38/50\n",
      "20/20 [==============================] - 2s 81ms/step - batch: 9.5000 - size: 6.0000 - loss: 0.8773 - accuracy: 0.6917 - val_loss: 1.5627 - val_accuracy: 0.5192\n",
      "Epoch 39/50\n",
      "20/20 [==============================] - 1s 70ms/step - batch: 9.5000 - size: 5.9500 - loss: 0.8686 - accuracy: 0.7059 - val_loss: 1.4673 - val_accuracy: 0.5769\n",
      "Epoch 40/50\n",
      "20/20 [==============================] - 1s 74ms/step - batch: 9.5000 - size: 5.9000 - loss: 0.7772 - accuracy: 0.7458 - val_loss: 1.5355 - val_accuracy: 0.5769\n",
      "Epoch 41/50\n",
      "20/20 [==============================] - 1s 67ms/step - batch: 9.5000 - size: 6.0000 - loss: 0.7070 - accuracy: 0.7250 - val_loss: 1.7290 - val_accuracy: 0.5385\n",
      "Epoch 42/50\n",
      "20/20 [==============================] - 1s 67ms/step - batch: 9.5000 - size: 5.9500 - loss: 0.6493 - accuracy: 0.7731 - val_loss: 1.6894 - val_accuracy: 0.5000\n",
      "Epoch 43/50\n",
      "20/20 [==============================] - 1s 69ms/step - batch: 9.5000 - size: 5.9500 - loss: 0.6717 - accuracy: 0.7647 - val_loss: 1.8434 - val_accuracy: 0.5962\n",
      "Epoch 44/50\n",
      "20/20 [==============================] - 2s 76ms/step - batch: 9.5000 - size: 6.0000 - loss: 0.5327 - accuracy: 0.7833 - val_loss: 2.0758 - val_accuracy: 0.5192\n",
      "Epoch 45/50\n",
      "20/20 [==============================] - 2s 77ms/step - batch: 9.5000 - size: 5.9500 - loss: 0.8216 - accuracy: 0.6807 - val_loss: 1.7028 - val_accuracy: 0.6346\n",
      "Epoch 46/50\n",
      "20/20 [==============================] - 1s 71ms/step - batch: 9.5000 - size: 5.9500 - loss: 0.5461 - accuracy: 0.7983 - val_loss: 1.8224 - val_accuracy: 0.6154\n",
      "Epoch 47/50\n",
      "20/20 [==============================] - 1s 67ms/step - batch: 9.5000 - size: 5.9500 - loss: 0.6479 - accuracy: 0.7311 - val_loss: 1.8192 - val_accuracy: 0.6154\n",
      "Epoch 48/50\n",
      "20/20 [==============================] - 1s 72ms/step - batch: 9.5000 - size: 5.9500 - loss: 0.6984 - accuracy: 0.7815 - val_loss: 1.7134 - val_accuracy: 0.5962\n",
      "Epoch 49/50\n",
      "20/20 [==============================] - 1s 74ms/step - batch: 9.5000 - size: 6.0000 - loss: 0.5775 - accuracy: 0.7583 - val_loss: 1.8970 - val_accuracy: 0.5962\n",
      "Epoch 50/50\n",
      "20/20 [==============================] - 2s 76ms/step - batch: 9.5000 - size: 5.9500 - loss: 0.5397 - accuracy: 0.8067 - val_loss: 2.7676 - val_accuracy: 0.4423\n"
     ]
    },
    {
     "data": {
      "text/plain": [
       "<keras.src.callbacks.History at 0x18a96624e50>"
      ]
     },
     "execution_count": 32,
     "metadata": {},
     "output_type": "execute_result"
    }
   ],
   "source": [
    " \n",
    "classifier.fit_generator(training_set,\n",
    "                         steps_per_epoch = 20,\n",
    "                         epochs = 50,\n",
    "                         validation_data=valid_set\n",
    "\n",
    "                         )"
   ]
  },
  {
   "cell_type": "code",
   "execution_count": 33,
   "id": "c6f30168-de75-4d5a-98e5-cd37f140381e",
   "metadata": {},
   "outputs": [],
   "source": [
    "classifier_json=classifier.to_json()"
   ]
  },
  {
   "cell_type": "code",
   "execution_count": 36,
   "id": "c5a6a071-b7e7-4b1d-afdf-b2d5a15d8a39",
   "metadata": {},
   "outputs": [],
   "source": [
    "with open(\"./model1.json\",\"w\") as f:\n",
    "    f.write(classifier_json)"
   ]
  },
  {
   "cell_type": "code",
   "execution_count": 38,
   "id": "8f1b06bc-26b4-45eb-a0e4-fcea3ad63d07",
   "metadata": {},
   "outputs": [],
   "source": [
    "# serialize weights to HDF5\n",
    "classifier.save_weights(\"my_model_weights.h5\")"
   ]
  },
  {
   "cell_type": "code",
   "execution_count": 39,
   "id": "10e1deee-896e-461a-b6a7-be3e897e9512",
   "metadata": {},
   "outputs": [
    {
     "name": "stderr",
     "output_type": "stream",
     "text": [
      "C:\\Users\\VARUN PN\\AppData\\Local\\Programs\\Python\\Python311\\Lib\\site-packages\\keras\\src\\engine\\training.py:3103: UserWarning: You are saving your model as an HDF5 file via `model.save()`. This file format is considered legacy. We recommend using instead the native Keras format, e.g. `model.save('my_model.keras')`.\n",
      "  saving_api.save_model(\n"
     ]
    }
   ],
   "source": [
    "classifier.save(\"model.h5\")"
   ]
  },
  {
   "cell_type": "code",
   "execution_count": 40,
   "id": "f93b151a-99b7-4a3f-b3eb-6d60f87650cd",
   "metadata": {},
   "outputs": [
    {
     "name": "stdout",
     "output_type": "stream",
     "text": [
      "Saved model to disk\n"
     ]
    }
   ],
   "source": [
    "print(\"Saved model to disk\")"
   ]
  },
  {
   "cell_type": "code",
   "execution_count": null,
   "id": "d95172f7-dcca-4844-87b2-00c9a00d0e8b",
   "metadata": {},
   "outputs": [],
   "source": [
    "\n",
    "\n"
   ]
  },
  {
   "cell_type": "code",
   "execution_count": null,
   "id": "a7ff799d-0fc0-4192-851a-2640c5ecd050",
   "metadata": {},
   "outputs": [],
   "source": []
  }
 ],
 "metadata": {
  "kernelspec": {
   "display_name": "Python 3 (ipykernel)",
   "language": "python",
   "name": "python3"
  },
  "language_info": {
   "codemirror_mode": {
    "name": "ipython",
    "version": 3
   },
   "file_extension": ".py",
   "mimetype": "text/x-python",
   "name": "python",
   "nbconvert_exporter": "python",
   "pygments_lexer": "ipython3",
   "version": "3.11.1"
  }
 },
 "nbformat": 4,
 "nbformat_minor": 5
}
